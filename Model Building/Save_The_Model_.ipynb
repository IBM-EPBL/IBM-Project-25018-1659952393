{
  "nbformat": 4,
  "nbformat_minor": 0,
  "metadata": {
    "colab": {
      "provenance": []
    },
    "kernelspec": {
      "name": "python3",
      "display_name": "Python 3"
    },
    "language_info": {
      "name": "python"
    }
  },
  "cells": [
    {
      "cell_type": "code",
      "source": [
        "#Create the training dataset\n",
        "#Create the scaled training data set\n",
        "train_data = scaled_data[0:training_data_len, :]\n",
        "#Split te data into x_train and y_train data sets\n",
        "x_train = []\n",
        "y_train = []\n",
        "\n",
        "for i in range(60, len(train_data)):\n",
        "  x_train.append(train_data[i-60:i, 0])\n",
        "  y_train.append(train_data[i, 0])\n",
        "  if i<= 61:\n",
        "    print(x_train)\n",
        "    print(y_train)\n",
        "    print()"
      ],
      "metadata": {
        "colab": {
          "base_uri": "https://localhost:8080/"
        },
        "id": "IeN7HpDy7OZS",
        "outputId": "ae99e2d6-fa1d-4fbb-bfbd-6f526ecff30d"
      },
      "execution_count": 26,
      "outputs": [
        {
          "output_type": "stream",
          "name": "stdout",
          "text": [
            "[array([0.94890659, 0.95066146, 0.9411447 , 0.93945734, 0.93776997,\n",
            "       0.94404697, 0.93480024, 0.92285367, 0.92015388, 0.9337203 ,\n",
            "       0.93291035, 0.93156048, 0.91853402, 0.92609343, 0.92184124,\n",
            "       0.92487853, 0.92690334, 0.92595842, 0.92069384, 0.91866904,\n",
            "       0.91279699, 0.90436016, 0.91434934, 0.90807239, 0.91819658,\n",
            "       0.92022138, 0.92784826, 0.9199514 , 0.93507023, 0.93392278,\n",
            "       0.94107724, 0.94451943, 0.95079643, 0.96834502, 0.97131479,\n",
            "       0.98177648, 0.9948704 , 0.98670356, 0.97313718, 0.97664687,\n",
            "       0.9885934 , 0.97414956, 0.97428457, 0.96065064, 0.97050489,\n",
            "       0.97333965, 0.97887421, 0.97171975, 0.97421706, 0.96557776,\n",
            "       0.96341794, 0.97657937, 0.9835313 , 0.96679267, 0.97799675,\n",
            "       0.96503779, 0.975297  , 0.97637689, 0.97840175, 0.9654428 ])]\n",
            "[0.9476916846113552]\n",
            "\n",
            "[array([0.94890659, 0.95066146, 0.9411447 , 0.93945734, 0.93776997,\n",
            "       0.94404697, 0.93480024, 0.92285367, 0.92015388, 0.9337203 ,\n",
            "       0.93291035, 0.93156048, 0.91853402, 0.92609343, 0.92184124,\n",
            "       0.92487853, 0.92690334, 0.92595842, 0.92069384, 0.91866904,\n",
            "       0.91279699, 0.90436016, 0.91434934, 0.90807239, 0.91819658,\n",
            "       0.92022138, 0.92784826, 0.9199514 , 0.93507023, 0.93392278,\n",
            "       0.94107724, 0.94451943, 0.95079643, 0.96834502, 0.97131479,\n",
            "       0.98177648, 0.9948704 , 0.98670356, 0.97313718, 0.97664687,\n",
            "       0.9885934 , 0.97414956, 0.97428457, 0.96065064, 0.97050489,\n",
            "       0.97333965, 0.97887421, 0.97171975, 0.97421706, 0.96557776,\n",
            "       0.96341794, 0.97657937, 0.9835313 , 0.96679267, 0.97799675,\n",
            "       0.96503779, 0.975297  , 0.97637689, 0.97840175, 0.9654428 ]), array([0.95066146, 0.9411447 , 0.93945734, 0.93776997, 0.94404697,\n",
            "       0.93480024, 0.92285367, 0.92015388, 0.9337203 , 0.93291035,\n",
            "       0.93156048, 0.91853402, 0.92609343, 0.92184124, 0.92487853,\n",
            "       0.92690334, 0.92595842, 0.92069384, 0.91866904, 0.91279699,\n",
            "       0.90436016, 0.91434934, 0.90807239, 0.91819658, 0.92022138,\n",
            "       0.92784826, 0.9199514 , 0.93507023, 0.93392278, 0.94107724,\n",
            "       0.94451943, 0.95079643, 0.96834502, 0.97131479, 0.98177648,\n",
            "       0.9948704 , 0.98670356, 0.97313718, 0.97664687, 0.9885934 ,\n",
            "       0.97414956, 0.97428457, 0.96065064, 0.97050489, 0.97333965,\n",
            "       0.97887421, 0.97171975, 0.97421706, 0.96557776, 0.96341794,\n",
            "       0.97657937, 0.9835313 , 0.96679267, 0.97799675, 0.96503779,\n",
            "       0.975297  , 0.97637689, 0.97840175, 0.9654428 , 0.94769168])]\n",
            "[0.9476916846113552, 0.9493115406049886]\n",
            "\n"
          ]
        }
      ]
    },
    {
      "cell_type": "code",
      "source": [
        "#Convert the x_train and y_train to numpy arrays\n",
        "x_train, y_train = np.array(x_train),np.array(y_train)"
      ],
      "metadata": {
        "id": "pSjTmPqE7WAz"
      },
      "execution_count": 27,
      "outputs": []
    },
    {
      "cell_type": "code",
      "source": [
        "#Reshape the data\n",
        "x_train= np.reshape(x_train, (x_train.shape[0], x_train.shape[1], 1))\n",
        "x_train.shape"
      ],
      "metadata": {
        "colab": {
          "base_uri": "https://localhost:8080/"
        },
        "id": "swLEospi7XlS",
        "outputId": "1e8fbbf2-8f7d-44a8-cacd-cf3158d5d1ed"
      },
      "execution_count": 28,
      "outputs": [
        {
          "output_type": "execute_result",
          "data": {
            "text/plain": [
              "(1953, 60, 1)"
            ]
          },
          "metadata": {},
          "execution_count": 28
        }
      ]
    },
    {
      "cell_type": "code",
      "source": [
        "#Build the LSTM model\n",
        "model = Sequential()\n",
        "model.add(LSTM(50, return_sequences= True, input_shape=(x_train.shape[1], 1)))\n",
        "model.add(LSTM(50, return_sequences= False))\n",
        "model.add(Dense(25))\n",
        "model.add(Dense(1))\n"
      ],
      "metadata": {
        "id": "DFjMqmoB7tsg"
      },
      "execution_count": 29,
      "outputs": []
    },
    {
      "cell_type": "code",
      "source": [
        "#Compile the model\n",
        "model.compile(optimizer= 'adam', loss='mean_squared_error' )"
      ],
      "metadata": {
        "id": "NLE07VKo7yL7"
      },
      "execution_count": 30,
      "outputs": []
    },
    {
      "cell_type": "code",
      "source": [
        "#Train the model\n",
        "model.fit(x_train, y_train, batch_size=1, epochs=1)"
      ],
      "metadata": {
        "colab": {
          "base_uri": "https://localhost:8080/"
        },
        "id": "tcAFg-1773b4",
        "outputId": "2e104840-e090-416d-9c4b-913602e1fbbe"
      },
      "execution_count": 31,
      "outputs": [
        {
          "output_type": "stream",
          "name": "stdout",
          "text": [
            "1953/1953 [==============================] - 55s 26ms/step - loss: 0.0017\n"
          ]
        },
        {
          "output_type": "execute_result",
          "data": {
            "text/plain": [
              "<keras.callbacks.History at 0x7facb41aab50>"
            ]
          },
          "metadata": {},
          "execution_count": 31
        }
      ]
    }
  ]
}